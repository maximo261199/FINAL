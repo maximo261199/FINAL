{
  "nbformat": 4,
  "nbformat_minor": 0,
  "metadata": {
    "colab": {
      "name": "Untitled18.ipynb",
      "provenance": [],
      "authorship_tag": "ABX9TyMUW5pqx/4EBEoZbMJcKYrH",
      "include_colab_link": true
    },
    "kernelspec": {
      "name": "python3",
      "display_name": "Python 3"
    },
    "language_info": {
      "name": "python"
    }
  },
  "cells": [
    {
      "cell_type": "markdown",
      "metadata": {
        "id": "view-in-github",
        "colab_type": "text"
      },
      "source": [
        "<a href=\"https://colab.research.google.com/github/maximo261199/FINAL/blob/main/prim.ipynb\" target=\"_parent\"><img src=\"https://colab.research.google.com/assets/colab-badge.svg\" alt=\"Open In Colab\"/></a>"
      ]
    },
    {
      "cell_type": "code",
      "execution_count": 11,
      "metadata": {
        "id": "wwhodbHrjVoq"
      },
      "outputs": [],
      "source": [
        "import heapq as h\n",
        "import math\n",
        "\n",
        "def prim(G):\n",
        "  n = len(G)\n",
        "  visited = [False]*n\n",
        "  path = [-1]*n\n",
        "  cost = [math.inf]*n\n",
        "\n",
        "  cost[0] = 0\n",
        "  q = [(0,0)]\n",
        "  while q:\n",
        "    _, u = hq.heappop(q)\n",
        "    if visited[u]: continue\n",
        "    visited[u] = True\n",
        "    for v,w in G[u]:\n",
        "      if w < cost[v]:\n",
        "        cost[v] = w\n",
        "        path[v] = u\n",
        "        hq.heappush(q,(w,v))\n",
        "  return path"
      ]
    },
    {
      "cell_type": "code",
      "source": [
        "%%file 1001a.al\n",
        "2 9 3 9 4 8\n",
        "2 6 3 1 6 8\n",
        "0 9 1 6 4 4 5 2 6 5\n",
        "0 9 1 1 7 4\n",
        "0 8 2 4 6 1\n",
        "2 2\n",
        "1 8 2 5 4 1\n",
        "3 4"
      ],
      "metadata": {
        "colab": {
          "base_uri": "https://localhost:8080/"
        },
        "id": "NuhM4evrkgpY",
        "outputId": "20abaa9b-e0cd-4ef2-f9c6-77ecb093e92f"
      },
      "execution_count": 6,
      "outputs": [
        {
          "output_type": "stream",
          "name": "stdout",
          "text": [
            "Writing 1001a.al\n"
          ]
        }
      ]
    },
    {
      "cell_type": "code",
      "source": [
        "with open(\"1001a.al\") as f:\n",
        "  G = []\n",
        "  for line in f:\n",
        "    if line == '-\\n':\n",
        "      G.append([])\n",
        "    else:\n",
        "      nums = [int(x) for x in line.split()]\n",
        "      G.append([(nums[i], nums[i+1]) for i in range(0, len(nums), 2)])\n",
        "\n",
        "  for x in G:\n",
        "    print(x)"
      ],
      "metadata": {
        "colab": {
          "base_uri": "https://localhost:8080/"
        },
        "id": "yztiYSaOlcwe",
        "outputId": "b00a2934-ee1b-432b-d17f-58f87362533a"
      },
      "execution_count": 7,
      "outputs": [
        {
          "output_type": "stream",
          "name": "stdout",
          "text": [
            "[(2, 9), (3, 9), (4, 8)]\n",
            "[(2, 6), (3, 1), (6, 8)]\n",
            "[(0, 9), (1, 6), (4, 4), (5, 2), (6, 5)]\n",
            "[(0, 9), (1, 1), (7, 4)]\n",
            "[(0, 8), (2, 4), (6, 1)]\n",
            "[(2, 2)]\n",
            "[(1, 8), (2, 5), (4, 1)]\n",
            "[(3, 4)]\n"
          ]
        }
      ]
    },
    {
      "cell_type": "code",
      "source": [
        "path = prim(G)\n",
        "print(path)"
      ],
      "metadata": {
        "colab": {
          "base_uri": "https://localhost:8080/"
        },
        "id": "tvNAmh6sljTX",
        "outputId": "97bc17fc-1433-406c-932f-5810da1d0227"
      },
      "execution_count": 12,
      "outputs": [
        {
          "output_type": "stream",
          "name": "stdout",
          "text": [
            "[-1, 3, 5, 1, 6, 2, 4, 3]\n"
          ]
        }
      ]
    }
  ]
}