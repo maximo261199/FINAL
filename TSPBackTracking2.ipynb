{
  "nbformat": 4,
  "nbformat_minor": 0,
  "metadata": {
    "colab": {
      "name": "TSPBackTracking2.ipynb",
      "provenance": [],
      "include_colab_link": true
    },
    "kernelspec": {
      "name": "python3",
      "display_name": "Python 3"
    },
    "language_info": {
      "name": "python"
    }
  },
  "cells": [
    {
      "cell_type": "markdown",
      "metadata": {
        "id": "view-in-github",
        "colab_type": "text"
      },
      "source": [
        "<a href=\"https://colab.research.google.com/github/maximo261199/FINAL/blob/main/TSPBackTracking2.ipynb\" target=\"_parent\"><img src=\"https://colab.research.google.com/assets/colab-badge.svg\" alt=\"Open In Colab\"/></a>"
      ]
    },
    {
      "cell_type": "code",
      "metadata": {
        "colab": {
          "base_uri": "https://localhost:8080/"
        },
        "id": "nRuJO660nDbg",
        "outputId": "c3c7d307-de00-4ac1-f576-2338ce4c6449"
      },
      "source": [
        "%%file data.txt\n",
        "PIURA,AYABACA,SUYO,LA COPA,-4.573242,-80.081772,67,259\n",
        "PIURA,PIURA,LA ARENA,JESUS MARIA,-5.31377,-80.706803,52,251\n",
        "PIURA,AYABACA,FRIAS,CACHIRIS,-4.855265,-79.922737,53,249\n",
        "PIURA,MORROPON,CHULUCANAS,CHARANAL (CHARANAL BAJO),-5.121276,-80.081937,75,249\n",
        "PIURA,MORROPON,CHULUCANAS,CRUZ DE CAMPANAS,-4.994016,-80.191894,58,249\n",
        "PIURA,HUANCABAMBA,SAN MIGUEL DE EL FAIQUE,EL HIGUERON,-5.456718,-79.60266,76,248\n",
        "PIURA,PIURA,LA ARENA,EL PEÑAL,-5.346272,-80.72849,61,247\n",
        "PIURA,MORROPON,CHULUCANAS,LA UNION,-5.096311,-80.048256,77,246"
      ],
      "execution_count": null,
      "outputs": [
        {
          "output_type": "stream",
          "text": [
            "Overwriting data.txt\n"
          ],
          "name": "stdout"
        }
      ]
    },
    {
      "cell_type": "code",
      "metadata": {
        "colab": {
          "base_uri": "https://localhost:8080/",
          "height": 762
        },
        "id": "997f_ps7mxNR",
        "outputId": "3cbfac3b-0bf5-4e62-902b-416d2c5d4752"
      },
      "source": [
        "import math\n",
        "import heapq as hq\n",
        "import matplotlib.pyplot as plt\n",
        "import time\n",
        "\n",
        "class Global:\n",
        "\tnodes = list()\n",
        "\ttest_d = math.inf\n",
        "\n",
        "def readpoints(filename):\n",
        "\twith open(filename, \"r\", encoding=\"utf8\") as f:\n",
        "\t\tit = 0\n",
        "\n",
        "\t\tfor line in f.readlines():\n",
        "\t\t\treg, prov, dis, asent, x, y, p1, p2 = line.split(\",\")\n",
        "\n",
        "\t\t\tnodo = (float(x), float(y))\n",
        "\n",
        "\t\t\tGlobal.nodes.append(nodo)\n",
        "\n",
        "\t\t\tit += 1\n",
        "\n",
        "def haversine(lon1, lat1, lon2, lat2):\n",
        "\n",
        "    lon1, lat1, lon2, lat2 = map(math.radians, [lon1, lat1, lon2, lat2])\n",
        "\n",
        "    dlon = lon2 - lon1\n",
        "    dlat = lat2 - lat1\n",
        "    a = math.sin(dlat/2)**2 + math.cos(lat1) * math.cos(lat2) * math.sin(dlon/2)**2\n",
        "    c = 2 * math.asin(math.sqrt(a))\n",
        "    r = 6371\n",
        "    return c * r\n",
        "\n",
        "def draw(s, c=\"red\"):\n",
        "\n",
        "\tfor p, e in s:\n",
        "\t\tX = [Global.nodes[p][0], Global.nodes[e][0]]\n",
        "\t\tY = [Global.nodes[p][1], Global.nodes[e][1]]\n",
        "\t\tplt.plot(X, Y, c)\n",
        "\tplt.show()\n",
        "\tplt.clf()\n",
        "\n",
        "def list_to_pair(r):\n",
        "\treturn [[r[a], r[a+1]] for a in range(len(r)-1)]\n",
        "\n",
        "def foo_iter(index, ruta, rutas, nodesq, sst, dx=0):\n",
        "\truta.append(index)\n",
        "\n",
        "\tfor i in nodesq:\n",
        "\n",
        "\t\tnodesq_ = list(nodesq)\n",
        "\t\tif i != sst or len(nodesq) == 1:\n",
        "\n",
        "\t\t\tx1,y1 = Global.nodes[index]\n",
        "\t\t\tx2,y2 = Global.nodes[i]\n",
        "\n",
        "\t\t\td = haversine(y1, x1, y2, x2)\n",
        "\t\t\tnodesq_.remove(i)\n",
        "\n",
        "\t\t\tfoo_iter(i, [a for a in ruta], rutas, nodesq_, sst, dx+d)\n",
        "\t\t\n",
        "\tif len(nodesq) == 0:\n",
        "\t\ts = (dx, ruta)\n",
        "\t\thq.heappush(rutas, s)\n",
        "\n",
        "\t\tif Global.test_d > dx:\n",
        "\t\t\tGlobal.test_d = dx\n",
        "\t\t\tprint(rutas[0])\n",
        "\n",
        "\n",
        "def start_ex(index, cicle=True):\n",
        "\tprint(\"Inicio\")\n",
        "\tGlobal.test_d = math.inf\n",
        "\n",
        "\tnodesq = [a for a in range(len(Global.nodes))]\n",
        "\tif cicle:\n",
        "\t\tindex = nodesq[index]\n",
        "\telse:\n",
        "\t\tindex = nodesq.pop(index)\n",
        "\n",
        "\trutas = []\n",
        "\n",
        "\tfoo_iter(index, [], rutas, nodesq, index)\n",
        "\n",
        "\treturn hq.heappop(rutas)\n",
        "\n",
        "readpoints(\"data.txt\")\n",
        "\n",
        "x = time.time()\n",
        "r = start_ex(0)\n",
        "print(time.time() - x)\n",
        "\n",
        "print(r)\n",
        "\n",
        "draw(list_to_pair(r[1]), \"blue\")"
      ],
      "execution_count": null,
      "outputs": [
        {
          "output_type": "stream",
          "text": [
            "Inicio\n",
            "(608.2905440347907, [0, 1, 2, 3, 4, 5, 6, 7, 0])\n",
            "(600.2364377659338, [0, 1, 2, 3, 4, 5, 7, 6, 0])\n",
            "(579.6440825573171, [0, 1, 2, 3, 4, 6, 5, 7, 0])\n",
            "(573.7780866229328, [0, 1, 2, 3, 5, 7, 4, 6, 0])\n",
            "(570.9641763193679, [0, 1, 2, 3, 5, 7, 6, 4, 0])\n",
            "(555.6957775597868, [0, 1, 2, 3, 7, 5, 6, 4, 0])\n",
            "(553.3052019689711, [0, 1, 2, 5, 3, 7, 6, 4, 0])\n",
            "(547.5549349942426, [0, 1, 2, 5, 7, 3, 6, 4, 0])\n",
            "(524.8216612515275, [0, 1, 3, 4, 6, 5, 7, 2, 0])\n",
            "(521.8107886093192, [0, 1, 3, 6, 4, 7, 5, 2, 0])\n",
            "(512.2926568244668, [0, 1, 3, 7, 4, 6, 5, 2, 0])\n",
            "(501.67397739859484, [0, 1, 4, 6, 3, 7, 5, 2, 0])\n",
            "(474.58577317840553, [0, 1, 6, 2, 3, 4, 5, 7, 0])\n",
            "(464.4267704929865, [0, 1, 6, 2, 3, 4, 7, 5, 0])\n",
            "(447.3166320466454, [0, 1, 6, 2, 3, 5, 7, 4, 0])\n",
            "(429.6576576962487, [0, 1, 6, 2, 5, 3, 7, 4, 0])\n",
            "(427.4695473617761, [0, 1, 6, 2, 5, 7, 3, 4, 0])\n",
            "(419.2570201565903, [0, 1, 6, 3, 4, 5, 7, 2, 0])\n",
            "(401.21906926082715, [0, 1, 6, 3, 4, 7, 5, 2, 0])\n",
            "(396.3608256538454, [0, 1, 6, 4, 3, 5, 7, 2, 0])\n",
            "(381.64371089231213, [0, 1, 6, 4, 3, 7, 5, 2, 0])\n",
            "(381.358559574196, [0, 2, 5, 3, 7, 6, 1, 4, 0])\n",
            "(376.1697454416767, [0, 2, 5, 7, 3, 1, 6, 4, 0])\n",
            "(375.6082925994674, [0, 2, 5, 7, 3, 6, 1, 4, 0])\n",
            "0.09233283996582031\n",
            "(375.6082925994674, [0, 2, 5, 7, 3, 6, 1, 4, 0])\n"
          ],
          "name": "stdout"
        },
        {
          "output_type": "display_data",
          "data": {
            "image/png": "[encoded data removed]",
            "text/plain": [
              "<Figure size 432x288 with 1 Axes>"
            ]
          },
          "metadata": {
            "tags": [],
            "needs_background": "light"
          }
        },
        {
          "output_type": "display_data",
          "data": {
            "text/plain": [
              "<Figure size 432x288 with 0 Axes>"
            ]
          },
          "metadata": {
            "tags": []
          }
        }
      ]
    }
  ]
}