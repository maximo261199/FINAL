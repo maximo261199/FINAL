{
  "nbformat": 4,
  "nbformat_minor": 0,
  "metadata": {
    "colab": {
      "name": "Untitled16.ipynb",
      "provenance": [],
      "collapsed_sections": [],
      "authorship_tag": "ABX9TyNUWuIzgt6WSreCy9oWvz0a",
      "include_colab_link": true
    },
    "kernelspec": {
      "name": "python3",
      "display_name": "Python 3"
    },
    "language_info": {
      "name": "python"
    }
  },
  "cells": [
    {
      "cell_type": "markdown",
      "metadata": {
        "id": "view-in-github",
        "colab_type": "text"
      },
      "source": [
        "<a href=\"https://colab.research.google.com/github/maximo261199/FINAL/blob/main/hex%20Game.ipynb\" target=\"_parent\"><img src=\"https://colab.research.google.com/assets/colab-badge.svg\" alt=\"Open In Colab\"/></a>"
      ]
    },
    {
      "cell_type": "code",
      "source": [
        "import graphviz as gv"
      ],
      "metadata": {
        "id": "2nxxk1mE94fU"
      },
      "execution_count": 2,
      "outputs": []
    },
    {
      "cell_type": "code",
      "source": [
        "def drawDS(ds):\n",
        "  graph = gv.Digraph(\"DisjointSet\")\n",
        "  graph.graph_attr['rankdir'] = \"BT\"\n",
        "  for e, p in enumerate(ds):\n",
        "    graph.node(str(e))\n",
        "    if p >= 0:\n",
        "      graph.edge(str(e), str(p))\n",
        "  return graph"
      ],
      "metadata": {
        "id": "lrHayHM194dD"
      },
      "execution_count": 3,
      "outputs": []
    },
    {
      "cell_type": "code",
      "source": [
        "class DisjointSet:\n",
        "  def __init__(self,n):\n",
        "    self.n = n\n",
        "    self.ds = [-1]*n\n",
        "\n",
        "  def find(self,e):\n",
        "    if self.ds[e] < 0:\n",
        "      return e\n",
        "    else:\n",
        "      root = self.find(self.ds[e])\n",
        "      self.ds[e] = root\n",
        "      return root\n",
        "    \n",
        "  def union(self,a,b):\n",
        "    a = self.find(a)\n",
        "    b = self.find(b)\n",
        "\n",
        "    if a == b: return\n",
        "  \n",
        "    if self.ds[a] < self.ds[b]:\n",
        "      self.ds[a] += self.ds[b]\n",
        "      self.ds[b] = a\n",
        "    else:\n",
        "      self.ds[b]+= self.ds[a]\n",
        "      self.ds[a] = b\n",
        "        "
      ],
      "metadata": {
        "id": "NFh4bYSL-gVe"
      },
      "execution_count": 15,
      "outputs": []
    },
    {
      "cell_type": "code",
      "execution_count": 28,
      "metadata": {
        "id": "3VmS551ZqOFO"
      },
      "outputs": [],
      "source": [
        "import numpy as np\n",
        "import matplotlib.pyplot as plt\n",
        "\n",
        "EMPTY = 0\n",
        "BLACK = 1\n",
        "WHITE = 2\n",
        "\n",
        "class Hex:\n",
        "  def __init__(self,n):\n",
        "    self.n = n\n",
        "    self.board = np.zeros((n,n), dtype = int)\n",
        "    self.blackds = DisjointSet(n*n + 2)\n",
        "    self.whiteds = DisjointSet(n*n + 2)\n",
        "    for i in range(n):\n",
        "      self.blackds.union(i, n*n)\n",
        "      self.blackds.union((n-1)*n + i, n*n + 1)\n",
        "      self.blackds.union(i*n, n*n)\n",
        "      self.blackds.union(i * n + n - 1, n*n + 1)\n",
        "\n",
        "  def move(self, i ,j,piece):\n",
        "    if self.board[i,j] != EMPTY: return -1\n",
        "    self.board[i,j] = piece\n",
        "    ds = self.blackds if piece == BLACK else self.whiteds\n",
        "    I1 = i * self.n + j\n",
        "    adjs = [(i-1, j), (i-1,j+1),(i, j-1),(i, j+1), (i+1, j-1), (i+1,j)]\n",
        "    for ii, jj in adjs:\n",
        "      if ii < 0 or ii >= self.n or jj < 0 or jj >=  self.n: continue\n",
        "      if self.board[ii,jj] == piece:\n",
        "        I2 = ii * self.n + jj\n",
        "        ds.union(I1,I2)\n",
        "\n",
        "    N = self.n * self.n\n",
        "    return piece if ds.find(N) == ds.find(N+1) else EMPTY\n",
        "\n",
        "    "
      ]
    },
    {
      "cell_type": "code",
      "source": [
        "hex = Hex(5)\n",
        "print(hex.board)"
      ],
      "metadata": {
        "colab": {
          "base_uri": "https://localhost:8080/"
        },
        "id": "Hm1j0HuS-Kdr",
        "outputId": "266f0c49-ee93-466a-9abf-8f2a8dcb85b3"
      },
      "execution_count": 35,
      "outputs": [
        {
          "output_type": "stream",
          "name": "stdout",
          "text": [
            "[[0 0 0 0 0]\n",
            " [0 0 0 0 0]\n",
            " [0 0 0 0 0]\n",
            " [0 0 0 0 0]\n",
            " [0 0 0 0 0]]\n"
          ]
        }
      ]
    },
    {
      "cell_type": "code",
      "source": [
        "hex.move(2,0,WHITE)"
      ],
      "metadata": {
        "colab": {
          "base_uri": "https://localhost:8080/"
        },
        "id": "2K8N3YkFDSYv",
        "outputId": "8f546723-23d4-481d-fda6-b58c2fbeb75e"
      },
      "execution_count": 36,
      "outputs": [
        {
          "output_type": "execute_result",
          "data": {
            "text/plain": [
              "0"
            ]
          },
          "metadata": {},
          "execution_count": 36
        }
      ]
    },
    {
      "cell_type": "code",
      "source": [
        "print(hex.board)"
      ],
      "metadata": {
        "colab": {
          "base_uri": "https://localhost:8080/"
        },
        "id": "BIkS6TnhHlCU",
        "outputId": "63e618d4-c6b6-47cb-a464-35af89c8e295"
      },
      "execution_count": 37,
      "outputs": [
        {
          "output_type": "stream",
          "name": "stdout",
          "text": [
            "[[0 0 0 0 0]\n",
            " [0 0 0 0 0]\n",
            " [2 0 0 0 0]\n",
            " [0 0 0 0 0]\n",
            " [0 0 0 0 0]]\n"
          ]
        }
      ]
    },
    {
      "cell_type": "code",
      "source": [
        "hex.move(1,1,WHITE)\n",
        "hex.move(1,2,WHITE)\n",
        "hex.move(2,2,WHITE)\n",
        "hex.move(3,1,WHITE)\n",
        "hex.move(4,1,WHITE)\n",
        "hex.move(4,2,WHITE)\n",
        "hex.move(4,3,WHITE)\n",
        "hex.move(3,4,WHITE)"
      ],
      "metadata": {
        "colab": {
          "base_uri": "https://localhost:8080/"
        },
        "id": "ncwX1wSkEvId",
        "outputId": "45032d38-71ba-4d47-ff2d-06372ddeaf0a"
      },
      "execution_count": 38,
      "outputs": [
        {
          "output_type": "execute_result",
          "data": {
            "text/plain": [
              "0"
            ]
          },
          "metadata": {},
          "execution_count": 38
        }
      ]
    },
    {
      "cell_type": "code",
      "source": [
        "print(hex.board)\n"
      ],
      "metadata": {
        "colab": {
          "base_uri": "https://localhost:8080/"
        },
        "id": "ObBBbPhfH7R8",
        "outputId": "1a4ff24b-a0ad-4a3f-9792-769c044441de"
      },
      "execution_count": 39,
      "outputs": [
        {
          "output_type": "stream",
          "name": "stdout",
          "text": [
            "[[0 0 0 0 0]\n",
            " [0 2 2 0 0]\n",
            " [2 0 2 0 0]\n",
            " [0 2 0 0 2]\n",
            " [0 2 2 2 0]]\n"
          ]
        }
      ]
    }
  ]
}